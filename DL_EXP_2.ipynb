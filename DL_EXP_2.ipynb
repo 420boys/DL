{
  "nbformat": 4,
  "nbformat_minor": 0,
  "metadata": {
    "colab": {
      "provenance": []
    },
    "kernelspec": {
      "name": "python3",
      "display_name": "Python 3"
    },
    "language_info": {
      "name": "python"
    }
  },
  "cells": [
    {
      "cell_type": "code",
      "execution_count": null,
      "metadata": {
        "id": "aFTSh2uI8Txx"
      },
      "outputs": [],
      "source": [
        " from sklearn.datasets import make_classification"
      ]
    },
    {
      "cell_type": "code",
      "source": [
        "import pandas as pd\n",
        "import numpy as np"
      ],
      "metadata": {
        "id": "8sRpFg2G8dFd"
      },
      "execution_count": null,
      "outputs": []
    },
    {
      "cell_type": "code",
      "source": [
        "from collections import Counter"
      ],
      "metadata": {
        "id": "6TtnzwMk8hcO"
      },
      "execution_count": null,
      "outputs": []
    },
    {
      "cell_type": "code",
      "source": [
        "import matplotlib.pyplot as plt\n",
        "import seaborn as sns"
      ],
      "metadata": {
        "id": "SKBlIpKp8p1G"
      },
      "execution_count": null,
      "outputs": []
    },
    {
      "cell_type": "code",
      "source": [
        "X , y=make_classification(n_samples=100000,n_features=32,n_informative=32,n_redundant=0,n_clusters_per_class=1,weights=[0.995,0.005],class_sep=0.5,random_state=0)\n"
      ],
      "metadata": {
        "id": "LMWWYKaX8zo2"
      },
      "execution_count": null,
      "outputs": []
    },
    {
      "cell_type": "code",
      "source": [
        "from sklearn.model_selection import train_test_split"
      ],
      "metadata": {
        "id": "d5qAuf9i9P84"
      },
      "execution_count": null,
      "outputs": []
    },
    {
      "cell_type": "code",
      "source": [
        "X_train,X_test,y_train,y_test=train_test_split(X,y,test_size=0.2,random_state=42)"
      ],
      "metadata": {
        "id": "Moeu9iE_9bMk"
      },
      "execution_count": null,
      "outputs": []
    },
    {
      "cell_type": "code",
      "source": [
        "print(\"The number of records in the training dataset is\",X_train.shape[0])\n",
        "print(\"The number of records in the dataset is\",X_test.shape[0])\n",
        "print(f\"The training dataset has {sorted(Counter(y_train).items())[0][1]} records \")"
      ],
      "metadata": {
        "colab": {
          "base_uri": "https://localhost:8080/"
        },
        "id": "MDq1gSO79njm",
        "outputId": "4ab57fe2-c4c4-44ed-ed2c-31269c45f374"
      },
      "execution_count": null,
      "outputs": [
        {
          "output_type": "stream",
          "name": "stdout",
          "text": [
            "The number of records in the training dataset is 80000\n",
            "The number of records in the dataset is 20000\n",
            "The training dataset has 79200 records \n"
          ]
        }
      ]
    },
    {
      "cell_type": "code",
      "source": [
        "X_train"
      ],
      "metadata": {
        "colab": {
          "base_uri": "https://localhost:8080/"
        },
        "id": "JeSPSh_5-cyo",
        "outputId": "fa02803c-8608-4d76-bb07-ce3a50d62b1e"
      },
      "execution_count": null,
      "outputs": [
        {
          "output_type": "execute_result",
          "data": {
            "text/plain": [
              "array([[-3.75949643e+00, -3.78605852e-01, -1.46362879e+00, ...,\n",
              "         2.70382420e+00,  1.78280865e+00,  2.63419776e-01],\n",
              "       [-6.32129714e+00, -2.28430570e+00, -5.14184296e-01, ...,\n",
              "        -3.08761234e+00, -2.13422351e-03,  3.06975030e+00],\n",
              "       [ 3.63680373e+00,  5.81323126e+00, -3.81501159e-01, ...,\n",
              "        -4.08324707e+00, -1.31913802e+00,  5.24207380e+00],\n",
              "       ...,\n",
              "       [ 2.11795713e+00, -6.87902640e+00, -1.34571204e+00, ...,\n",
              "         3.31142601e+00, -7.73686609e-02, -6.67414603e+00],\n",
              "       [-1.61331210e-01, -3.23563815e+00, -4.34442763e+00, ...,\n",
              "        -3.89822446e-01, -1.21105090e+00, -9.30390350e-02],\n",
              "       [ 2.21867298e-01, -1.21181512e+00, -3.19728190e+00, ...,\n",
              "         5.88137865e+00, -2.40009494e+00, -1.94711318e+00]])"
            ]
          },
          "metadata": {},
          "execution_count": 12
        }
      ]
    },
    {
      "cell_type": "code",
      "source": [
        "X_train.shape"
      ],
      "metadata": {
        "colab": {
          "base_uri": "https://localhost:8080/"
        },
        "id": "Ehv943E4B3jw",
        "outputId": "a208ce19-7b1a-4442-f771-ea72867af897"
      },
      "execution_count": null,
      "outputs": [
        {
          "output_type": "execute_result",
          "data": {
            "text/plain": [
              "(80000, 32)"
            ]
          },
          "metadata": {},
          "execution_count": 13
        }
      ]
    },
    {
      "cell_type": "code",
      "source": [
        "import keras\n",
        "from keras.layers import Dense\n",
        "from keras.models import Sequential\n",
        "from sklearn.metrics import classification_report"
      ],
      "metadata": {
        "id": "eeYl5iJeB6FV"
      },
      "execution_count": null,
      "outputs": []
    },
    {
      "cell_type": "code",
      "source": [
        "X_train_normal=X_train[np.where(y_train==0)]\n",
        "input=keras.layers.Input(shape=(32,))"
      ],
      "metadata": {
        "id": "13bk--EPCEsV"
      },
      "execution_count": null,
      "outputs": []
    },
    {
      "cell_type": "code",
      "source": [
        "encoder=Sequential([Dense(16,activation='relu'),Dense(8,activation='relu'),Dense(4,activation='relu')])(input)"
      ],
      "metadata": {
        "id": "r9IdcBWGCXnk"
      },
      "execution_count": null,
      "outputs": []
    },
    {
      "cell_type": "code",
      "source": [
        "decoder=Sequential([Dense(8,activation='relu'),Dense(16,activation='relu'),Dense(32,activation='relu')])(encoder)"
      ],
      "metadata": {
        "id": "3TJsl7Z75nAv"
      },
      "execution_count": null,
      "outputs": []
    },
    {
      "cell_type": "code",
      "source": [
        "autoencoder=keras.Model(inputs=input,outputs=decoder)"
      ],
      "metadata": {
        "id": "kJEZd0x46Avq"
      },
      "execution_count": null,
      "outputs": []
    },
    {
      "cell_type": "code",
      "source": [
        "autoencoder.summary()"
      ],
      "metadata": {
        "colab": {
          "base_uri": "https://localhost:8080/"
        },
        "id": "D2kzxBaQ6fQp",
        "outputId": "b3a357da-bb77-40fb-cbeb-6dc37ed5228b"
      },
      "execution_count": null,
      "outputs": [
        {
          "output_type": "stream",
          "name": "stdout",
          "text": [
            "Model: \"model\"\n",
            "_________________________________________________________________\n",
            " Layer (type)                Output Shape              Param #   \n",
            "=================================================================\n",
            " input_1 (InputLayer)        [(None, 32)]              0         \n",
            "                                                                 \n",
            " sequential (Sequential)     (None, 4)                 700       \n",
            "                                                                 \n",
            " sequential_1 (Sequential)   (None, 32)                728       \n",
            "                                                                 \n",
            "=================================================================\n",
            "Total params: 1428 (5.58 KB)\n",
            "Trainable params: 1428 (5.58 KB)\n",
            "Non-trainable params: 0 (0.00 Byte)\n",
            "_________________________________________________________________\n"
          ]
        }
      ]
    },
    {
      "cell_type": "code",
      "source": [
        "autoencoder.compile(optimizer='adam',loss='mae')"
      ],
      "metadata": {
        "id": "ssfq7mqj6lOX"
      },
      "execution_count": null,
      "outputs": []
    },
    {
      "cell_type": "markdown",
      "source": [],
      "metadata": {
        "id": "xTiCK4Qn_5m8"
      }
    },
    {
      "cell_type": "code",
      "source": [
        "history=autoencoder.fit(X_train_normal,X_train_normal,epochs=20,batch_size=64,validation_data=(X_test, X_test),shuffle=True)"
      ],
      "metadata": {
        "colab": {
          "base_uri": "https://localhost:8080/"
        },
        "id": "xOFuSnEO6v1n",
        "outputId": "051439f3-ed6c-40a0-f49c-0e63c51ef9b5"
      },
      "execution_count": null,
      "outputs": [
        {
          "output_type": "stream",
          "name": "stdout",
          "text": [
            "Epoch 1/20\n",
            "1238/1238 [==============================] - 3s 3ms/step - loss: 2.3111 - val_loss: 2.3051\n",
            "Epoch 2/20\n",
            "1238/1238 [==============================] - 3s 3ms/step - loss: 2.2994 - val_loss: 2.2983\n",
            "Epoch 3/20\n",
            "1238/1238 [==============================] - 5s 4ms/step - loss: 2.2918 - val_loss: 2.2903\n",
            "Epoch 4/20\n",
            "1238/1238 [==============================] - 4s 3ms/step - loss: 2.2849 - val_loss: 2.2843\n",
            "Epoch 5/20\n",
            "1238/1238 [==============================] - 3s 3ms/step - loss: 2.2788 - val_loss: 2.2783\n",
            "Epoch 6/20\n",
            "1238/1238 [==============================] - 3s 3ms/step - loss: 2.2750 - val_loss: 2.2758\n",
            "Epoch 7/20\n",
            "1238/1238 [==============================] - 5s 4ms/step - loss: 2.2723 - val_loss: 2.2757\n",
            "Epoch 8/20\n",
            "1238/1238 [==============================] - 4s 3ms/step - loss: 2.2703 - val_loss: 2.2721\n",
            "Epoch 9/20\n",
            "1238/1238 [==============================] - 3s 3ms/step - loss: 2.2688 - val_loss: 2.2711\n",
            "Epoch 10/20\n",
            "1238/1238 [==============================] - 5s 4ms/step - loss: 2.2677 - val_loss: 2.2694\n",
            "Epoch 11/20\n",
            "1238/1238 [==============================] - 3s 3ms/step - loss: 2.2666 - val_loss: 2.2692\n",
            "Epoch 12/20\n",
            "1238/1238 [==============================] - 3s 3ms/step - loss: 2.2655 - val_loss: 2.2671\n",
            "Epoch 13/20\n",
            "1238/1238 [==============================] - 5s 4ms/step - loss: 2.2648 - val_loss: 2.2662\n",
            "Epoch 14/20\n",
            "1238/1238 [==============================] - 4s 3ms/step - loss: 2.2637 - val_loss: 2.2666\n",
            "Epoch 15/20\n",
            "1238/1238 [==============================] - 4s 3ms/step - loss: 2.2631 - val_loss: 2.2653\n",
            "Epoch 16/20\n",
            "1238/1238 [==============================] - 5s 4ms/step - loss: 2.2624 - val_loss: 2.2654\n",
            "Epoch 17/20\n",
            "1238/1238 [==============================] - 9s 8ms/step - loss: 2.2618 - val_loss: 2.2633\n",
            "Epoch 18/20\n",
            "1238/1238 [==============================] - 10s 8ms/step - loss: 2.2612 - val_loss: 2.2635\n",
            "Epoch 19/20\n",
            "1238/1238 [==============================] - 11s 9ms/step - loss: 2.2607 - val_loss: 2.2620\n",
            "Epoch 20/20\n",
            "1238/1238 [==============================] - 6s 5ms/step - loss: 2.2601 - val_loss: 2.2628\n"
          ]
        }
      ]
    },
    {
      "cell_type": "code",
      "source": [
        "plt.plot(history.history[\"loss\"],label=\"Training Loss\")\n",
        "plt.plot(history.history[\"val_loss\"],label=\"Validation Loss\")\n",
        "plt.legend()"
      ],
      "metadata": {
        "colab": {
          "base_uri": "https://localhost:8080/",
          "height": 447
        },
        "id": "BRKLqsjQ7WMr",
        "outputId": "cdd4cc4e-b5c6-45fe-f40e-111720c2ee1c"
      },
      "execution_count": null,
      "outputs": [
        {
          "output_type": "execute_result",
          "data": {
            "text/plain": [
              "<matplotlib.legend.Legend at 0x7efb51e40d30>"
            ]
          },
          "metadata": {},
          "execution_count": 25
        },
        {
          "output_type": "display_data",
          "data": {
            "text/plain": [
              "<Figure size 640x480 with 1 Axes>"
            ],
            "image/png": "[encoded data removed]"
          },
          "metadata": {}
        }
      ]
    },
    {
      "cell_type": "code",
      "source": [
        "prediction=autoencoder.predict(X_test)\n",
        "prediction_loss=keras.losses.mae(prediction,X_test)\n",
        "loss_threshold=np.percentile(prediction_loss,98)\n",
        "print(f'The prediction loss threshold for 2% of outliers is {loss_threshold:.2f}')\n",
        "sns.histplot(prediction_loss,bins=30,alpha=0.8)\n",
        "plt.axvline(x=loss_threshold,color='orange')"
      ],
      "metadata": {
        "colab": {
          "base_uri": "https://localhost:8080/",
          "height": 482
        },
        "id": "wAdqkz4Y8VVk",
        "outputId": "dfe03e5c-49d7-4b8a-bc46-ec48b043bbfb"
      },
      "execution_count": null,
      "outputs": [
        {
          "output_type": "stream",
          "name": "stdout",
          "text": [
            "625/625 [==============================] - 2s 3ms/step\n",
            "The prediction loss threshold for 2% of outliers is 3.20\n"
          ]
        },
        {
          "output_type": "execute_result",
          "data": {
            "text/plain": [
              "<matplotlib.lines.Line2D at 0x7efb51f15de0>"
            ]
          },
          "metadata": {},
          "execution_count": 27
        },
        {
          "output_type": "display_data",
          "data": {
            "text/plain": [
              "<Figure size 640x480 with 1 Axes>"
            ],
            "image/png": "[encoded data removed]"
          },
          "metadata": {}
        }
      ]
    },
    {
      "cell_type": "code",
      "source": [
        "threshold_prediction=[0 if i < loss_threshold else 1 for i in prediction_loss]\n",
        "print(classification_report(y_test,threshold_prediction))"
      ],
      "metadata": {
        "colab": {
          "base_uri": "https://localhost:8080/"
        },
        "id": "oxNvVTH79wOW",
        "outputId": "8baaf00b-b474-44dd-e88e-05f2eeece401"
      },
      "execution_count": null,
      "outputs": [
        {
          "output_type": "stream",
          "name": "stdout",
          "text": [
            "              precision    recall  f1-score   support\n",
            "\n",
            "           0       0.99      0.98      0.99     19803\n",
            "           1       0.01      0.02      0.01       197\n",
            "\n",
            "    accuracy                           0.97     20000\n",
            "   macro avg       0.50      0.50      0.50     20000\n",
            "weighted avg       0.98      0.97      0.98     20000\n",
            "\n"
          ]
        }
      ]
    }
  ]
}