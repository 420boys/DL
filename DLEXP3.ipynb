{
  "nbformat": 4,
  "nbformat_minor": 0,
  "metadata": {
    "colab": {
      "provenance": []
    },
    "kernelspec": {
      "name": "python3",
      "display_name": "Python 3"
    },
    "language_info": {
      "name": "python"
    }
  },
  "cells": [
    {
      "cell_type": "code",
      "execution_count": null,
      "metadata": {
        "colab": {
          "base_uri": "https://localhost:8080/"
        },
        "id": "dJtGUQRlIrOS",
        "outputId": "5722d55f-0406-432b-8665-82e38eb88e5a"
      },
      "outputs": [
        {
          "output_type": "execute_result",
          "data": {
            "text/plain": [
              "(10, 5)"
            ]
          },
          "metadata": {},
          "execution_count": 1
        }
      ],
      "source": [
        "import numpy as np\n",
        "num_user=10\n",
        "num_movies=5\n",
        "rating_data=np.random.randint(0,2,size=(num_user,num_movies))\n",
        "rating_data.shape"
      ]
    },
    {
      "cell_type": "code",
      "source": [
        "def sigmoid(x):\n",
        "  return 1/(1+np.exp(-x))"
      ],
      "metadata": {
        "id": "tL6TBcrqJQjN"
      },
      "execution_count": null,
      "outputs": []
    },
    {
      "cell_type": "code",
      "source": [
        "num_hidden_units=3\n",
        "weights=np.random.normal(0,0.1,(num_movies,num_hidden_units))\n",
        "print(weights.shape)\n",
        "print(weights)"
      ],
      "metadata": {
        "colab": {
          "base_uri": "https://localhost:8080/"
        },
        "id": "tAhZJFP7JS_l",
        "outputId": "6c357f1b-698d-46e1-92f9-b61dddb10f3b"
      },
      "execution_count": null,
      "outputs": [
        {
          "output_type": "stream",
          "name": "stdout",
          "text": [
            "(5, 3)\n",
            "[[-0.06479467  0.10074499  0.01150905]\n",
            " [-0.11423366  0.05133611  0.0532215 ]\n",
            " [-0.00545507  0.14306909 -0.04360882]\n",
            " [ 0.04290605 -0.2031122  -0.24806607]\n",
            " [ 0.05320075 -0.11867598 -0.07490627]]\n"
          ]
        }
      ]
    },
    {
      "cell_type": "code",
      "source": [
        "visible_bias=np.zeros(num_movies)\n",
        "print(visible_bias.shape)\n",
        "hidden_bias=np.zeros(num_hidden_units)\n",
        "learning_rate=0.1\n",
        "print(hidden_bias.shape)"
      ],
      "metadata": {
        "colab": {
          "base_uri": "https://localhost:8080/"
        },
        "id": "ZeZb4YBCJVit",
        "outputId": "ff7e9536-ce32-4154-c98f-f0700506b954"
      },
      "execution_count": null,
      "outputs": [
        {
          "output_type": "stream",
          "name": "stdout",
          "text": [
            "(5,)\n",
            "(3,)\n"
          ]
        }
      ]
    },
    {
      "cell_type": "code",
      "source": [
        "num_epochs = 1000\n",
        "for epoch in range(num_epochs):\n",
        "   for user_ratings in rating_data:\n",
        "    # Positive phase\n",
        "    hidden_probabilities =sigmoid(np.dot(user_ratings, weights) + hidden_bias)\n",
        "    positive_associations = np.outer(user_ratings, hidden_probabilities)\n",
        "    # Reconstruction\n",
        "    visible_probabilities =sigmoid(np.dot(hidden_probabilities, weights.T) + visible_bias)\n",
        "   # Negative phase\n",
        "   hidden_probabilities_recon=sigmoid (np.dot (visible_probabilities, weights) + hidden_bias )\n",
        "   negative_associations = np.outer(visible_probabilities, hidden_probabilities_recon)\n",
        "   #update weight\n",
        "   weights += learning_rate * (positive_associations - negative_associations)\n",
        "   visible_bias += learning_rate * (user_ratings - visible_probabilities)\n",
        "   hidden_bias += learning_rate * (hidden_probabilities - hidden_probabilities_recon)"
      ],
      "metadata": {
        "id": "OHSLwaU8JX4e"
      },
      "execution_count": null,
      "outputs": []
    },
    {
      "cell_type": "code",
      "source": [
        "user_id = 5\n",
        "user_ratings =rating_data[user_id]\n",
        "hidden_probabilities=sigmoid(np.dot(user_ratings, weights) + hidden_bias)\n",
        "visible_probabilities =sigmoid (np.dot(hidden_probabilities, weights.T) + visible_bias)\n",
        "predicted_ratings = visible_probabilities\n",
        "print(\"Predicted ratings for user\", user_id, \":\", predicted_ratings)\n"
      ],
      "metadata": {
        "colab": {
          "base_uri": "https://localhost:8080/"
        },
        "id": "83vtXteNJZ1O",
        "outputId": "857fb063-9a8e-463d-92f6-b662c519c98a"
      },
      "execution_count": null,
      "outputs": [
        {
          "output_type": "stream",
          "name": "stdout",
          "text": [
            "Predicted ratings for user 5 : [0.00280775 0.99743956 0.00280744 0.99741759 0.99742911]\n"
          ]
        }
      ]
    },
    {
      "cell_type": "code",
      "source": [
        "max_rating = np.max(predicted_ratings)\n",
        "max_index = np.argmax(predicted_ratings)\n",
        "print(\"The maximum predicted rating for user\", user_id, \"is\", max_rating, \"at movie\", max_index)\n"
      ],
      "metadata": {
        "colab": {
          "base_uri": "https://localhost:8080/"
        },
        "id": "Yo4Y5desJb5l",
        "outputId": "8f72312d-4a16-445e-cf63-309b4b4e817e"
      },
      "execution_count": null,
      "outputs": [
        {
          "output_type": "stream",
          "name": "stdout",
          "text": [
            "The maximum predicted rating for user 5 is 0.9974395595106861 at movie 1\n"
          ]
        }
      ]
    },
    {
      "cell_type": "code",
      "source": [],
      "metadata": {
        "id": "lYPpoaqdJeVt"
      },
      "execution_count": null,
      "outputs": []
    }
  ]
}